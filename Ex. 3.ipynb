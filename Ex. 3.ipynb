{
 "cells": [
  {
   "cell_type": "code",
   "execution_count": null,
   "id": "d004528c",
   "metadata": {},
   "outputs": [],
   "source": [
    "i = 1\n",
    "\n",
    "while i <= 10:\n",
    "    nome = input('Informe o nome do cliente: ')\n",
    "    valor = float(input('Informe o valor da compra no ano passado: '))\n",
    "    \n",
    "    if valor < 100:\n",
    "        valor *= 0.1\n",
    "        print(f'cliente: { nome } valor do bônus: { valor }')\n",
    "    else:\n",
    "        valor *= 0.15\n",
    "        print(f'cliente: { nome } valor do bônus: { valor }')\n",
    "        \n",
    "    i += 1"
   ]
  }
 ],
 "metadata": {
  "kernelspec": {
   "display_name": "Python 3 (ipykernel)",
   "language": "python",
   "name": "python3"
  },
  "language_info": {
   "codemirror_mode": {
    "name": "ipython",
    "version": 3
   },
   "file_extension": ".py",
   "mimetype": "text/x-python",
   "name": "python",
   "nbconvert_exporter": "python",
   "pygments_lexer": "ipython3",
   "version": "3.9.7"
  }
 },
 "nbformat": 4,
 "nbformat_minor": 5
}
