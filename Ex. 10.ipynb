{
 "cells": [
  {
   "cell_type": "code",
   "execution_count": null,
   "id": "5618fb68",
   "metadata": {},
   "outputs": [],
   "source": [
    "#Exercício 10\n",
    "\n",
    "i = 1\n",
    "num = 0\n",
    "total = 0\n",
    "positivo = 0\n",
    "negativo = 0\n",
    "\n",
    "while i != 0:\n",
    "    num = float(input('Informe um número: '))\n",
    "    \n",
    "    if num > 0:\n",
    "        positivo += 1\n",
    "    elif num < 0:\n",
    "        negativo += 1\n",
    "    \n",
    "    if num == 0:\n",
    "        break\n",
    "        \n",
    "    total += num\n",
    "    i += 1\n",
    "    \n",
    "print(f'Média dos valores: { total / (i - 1)}')\n",
    "print(f'Total de valores positivos: { positivo }')\n",
    "print(f'Total de valores negativos: { negativo }')\n",
    "print(f'Percentual de valores positivos: { (positivo / (i - 1) * 100) }%')\n",
    "print(f'Percentual de valores negativos: { (negativo / (i - 1) * 100) }%')"
   ]
  }
 ],
 "metadata": {
  "kernelspec": {
   "display_name": "Python 3 (ipykernel)",
   "language": "python",
   "name": "python3"
  },
  "language_info": {
   "codemirror_mode": {
    "name": "ipython",
    "version": 3
   },
   "file_extension": ".py",
   "mimetype": "text/x-python",
   "name": "python",
   "nbconvert_exporter": "python",
   "pygments_lexer": "ipython3",
   "version": "3.9.7"
  }
 },
 "nbformat": 4,
 "nbformat_minor": 5
}
