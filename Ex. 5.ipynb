{
 "cells": [
  {
   "cell_type": "code",
   "execution_count": null,
   "id": "895749d8",
   "metadata": {},
   "outputs": [],
   "source": [
    "i = 1\n",
    "maior50 = 0\n",
    "entre10e20 = 0\n",
    "somaAltura = 0\n",
    "pesoMenor40 = 0\n",
    "\n",
    "while i <= 25:\n",
    "    idade = int(input('Informe sua idade: '))\n",
    "    altura = float(input('Informe sua altura em cm: '))\n",
    "    peso = float(input('Informe seu peso: '))\n",
    "    \n",
    "    if idade > 50:\n",
    "        maior50 += 1\n",
    "    elif idade >= 10 and idade <=20:\n",
    "        entre10e20 += 1\n",
    "        somaAltura += altura\n",
    "    \n",
    "    if peso < 40:\n",
    "        pesoMenor40 += 1\n",
    "    \n",
    "    i += 1\n",
    "    \n",
    "print(f'Quantidade de pessoas com mais de 50 anos: { maior50 }')\n",
    "print(f'Média de altura das pessoas entre 10 e 20 anos: {somaAltura/entre10e20}cm')\n",
    "print(f'Porcentagem de pessoas com peso menor que 40kg: {(pesoMenor40/i)*100}%')"
   ]
  }
 ],
 "metadata": {
  "kernelspec": {
   "display_name": "Python 3 (ipykernel)",
   "language": "python",
   "name": "python3"
  },
  "language_info": {
   "codemirror_mode": {
    "name": "ipython",
    "version": 3
   },
   "file_extension": ".py",
   "mimetype": "text/x-python",
   "name": "python",
   "nbconvert_exporter": "python",
   "pygments_lexer": "ipython3",
   "version": "3.9.7"
  }
 },
 "nbformat": 4,
 "nbformat_minor": 5
}
