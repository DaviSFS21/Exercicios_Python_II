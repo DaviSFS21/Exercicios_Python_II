{
 "cells": [
  {
   "cell_type": "code",
   "execution_count": null,
   "id": "e05ffee2",
   "metadata": {},
   "outputs": [],
   "source": [
    "i = 1\n",
    "idade = 0\n",
    "somaIdade = 0\n",
    "\n",
    "while i != 0:\n",
    "    idade =  int(input('Informe sua idade: '))\n",
    "    if idade != 0:\n",
    "        somaIdade += idade\n",
    "    else:\n",
    "        break\n",
    "    \n",
    "    i += 1\n",
    "\n",
    "media = somaIdade / (i - 1)\n",
    "\n",
    "print(f'Média das idades: { media } ')"
   ]
  }
 ],
 "metadata": {
  "kernelspec": {
   "display_name": "Python 3 (ipykernel)",
   "language": "python",
   "name": "python3"
  },
  "language_info": {
   "codemirror_mode": {
    "name": "ipython",
    "version": 3
   },
   "file_extension": ".py",
   "mimetype": "text/x-python",
   "name": "python",
   "nbconvert_exporter": "python",
   "pygments_lexer": "ipython3",
   "version": "3.9.7"
  }
 },
 "nbformat": 4,
 "nbformat_minor": 5
}
