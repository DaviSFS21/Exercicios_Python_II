{
 "cells": [
  {
   "cell_type": "code",
   "execution_count": null,
   "id": "e1396a04",
   "metadata": {},
   "outputs": [],
   "source": [
    "tabuada = 7\n",
    "i = 1\n",
    "\n",
    "while i <= 10:\n",
    "    print(f'{ tabuada } X { i } = { tabuada * i }')\n",
    "    i += 1"
   ]
  }
 ],
 "metadata": {
  "kernelspec": {
   "display_name": "Python 3 (ipykernel)",
   "language": "python",
   "name": "python3"
  },
  "language_info": {
   "codemirror_mode": {
    "name": "ipython",
    "version": 3
   },
   "file_extension": ".py",
   "mimetype": "text/x-python",
   "name": "python",
   "nbconvert_exporter": "python",
   "pygments_lexer": "ipython3",
   "version": "3.9.7"
  }
 },
 "nbformat": 4,
 "nbformat_minor": 5
}
