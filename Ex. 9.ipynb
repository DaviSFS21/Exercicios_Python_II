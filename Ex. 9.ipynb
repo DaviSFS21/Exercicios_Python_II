{
 "cells": [
  {
   "cell_type": "code",
   "execution_count": null,
   "id": "cfa435eb",
   "metadata": {},
   "outputs": [],
   "source": [
    "i = 1\n",
    "contaNegativos = 0\n",
    "\n",
    "while i <= 5:\n",
    "    numero = float(input('Informe um número: '))\n",
    "    \n",
    "    if numero < 0:\n",
    "        contaNegativos += 1\n",
    "        \n",
    "    i += 1\n",
    "\n",
    "print(f'Quantidade de números negativos: { contaNegativos }')"
   ]
  }
 ],
 "metadata": {
  "kernelspec": {
   "display_name": "Python 3 (ipykernel)",
   "language": "python",
   "name": "python3"
  },
  "language_info": {
   "codemirror_mode": {
    "name": "ipython",
    "version": 3
   },
   "file_extension": ".py",
   "mimetype": "text/x-python",
   "name": "python",
   "nbconvert_exporter": "python",
   "pygments_lexer": "ipython3",
   "version": "3.9.7"
  }
 },
 "nbformat": 4,
 "nbformat_minor": 5
}
