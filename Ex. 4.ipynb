{
 "cells": [
  {
   "cell_type": "code",
   "execution_count": null,
   "id": "659368bc",
   "metadata": {},
   "outputs": [],
   "source": [
    "i = 1\n",
    "maior18 = 0\n",
    "\n",
    "while i <= 10:\n",
    "    idade = int(input('Informe sua idade: '))\n",
    "    \n",
    "    if idade >= 18:\n",
    "        maior18 += 1\n",
    "    \n",
    "    i += 1\n",
    "    \n",
    "print(f'Pessoas maiores de 18 anos: { maior18 }')"
   ]
  }
 ],
 "metadata": {
  "kernelspec": {
   "display_name": "Python 3 (ipykernel)",
   "language": "python",
   "name": "python3"
  },
  "language_info": {
   "codemirror_mode": {
    "name": "ipython",
    "version": 3
   },
   "file_extension": ".py",
   "mimetype": "text/x-python",
   "name": "python",
   "nbconvert_exporter": "python",
   "pygments_lexer": "ipython3",
   "version": "3.9.7"
  }
 },
 "nbformat": 4,
 "nbformat_minor": 5
}
