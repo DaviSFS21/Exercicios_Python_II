{
 "cells": [
  {
   "cell_type": "code",
   "execution_count": null,
   "id": "25d243ad",
   "metadata": {},
   "outputs": [],
   "source": [
    "i = 1\n",
    "somaIdade = 0\n",
    "pesoAltura1 = 0\n",
    "idadeAltura = 0\n",
    "\n",
    "while i <= 10:\n",
    "    idade = int(input('Informe sua idade: '))\n",
    "    altura = float(input('Informe sua altura: '))\n",
    "    peso = float(input('Informe seu peso: '))\n",
    "    \n",
    "    if peso > 90 and altura < 1.50:\n",
    "        pesoAltura1 += 1\n",
    "        \n",
    "    if idade >= 10 and idade <= 30 and altura > 1.90:\n",
    "        idadeAltura += i\n",
    "    \n",
    "    somaIdade += idade\n",
    "    i += 1\n",
    "    \n",
    "print(f'Média de idade: { somaIdade / (i-1) }')\n",
    "print(f'Pessoas com peso maior que 90kg com menos de 1.50m:  { pesoAltura1 }')\n",
    "print(f'Percentual de pessoas entre 10 e 30 anos com mais de 1.90m: { (idadeAltura / (i - 1) * 100) }%')"
   ]
  }
 ],
 "metadata": {
  "kernelspec": {
   "display_name": "Python 3 (ipykernel)",
   "language": "python",
   "name": "python3"
  },
  "language_info": {
   "codemirror_mode": {
    "name": "ipython",
    "version": 3
   },
   "file_extension": ".py",
   "mimetype": "text/x-python",
   "name": "python",
   "nbconvert_exporter": "python",
   "pygments_lexer": "ipython3",
   "version": "3.9.7"
  }
 },
 "nbformat": 4,
 "nbformat_minor": 5
}
